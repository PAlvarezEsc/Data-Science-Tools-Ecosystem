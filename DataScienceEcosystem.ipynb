{
  "metadata": {
    "kernelspec": {
      "name": "python",
      "display_name": "Python (Pyodide)",
      "language": "python"
    },
    "language_info": {
      "codemirror_mode": {
        "name": "python",
        "version": 3
      },
      "file_extension": ".py",
      "mimetype": "text/x-python",
      "name": "python",
      "nbconvert_exporter": "python",
      "pygments_lexer": "ipython3",
      "version": "3.8"
    }
  },
  "nbformat_minor": 5,
  "nbformat": 4,
  "cells": [
    {
      "id": "33badd3f-6132-489c-a5f2-2a0c860d1b4e",
      "cell_type": "markdown",
      "source": "Markdown\n\n# Data Science Tools Ecosystem",
      "metadata": {}
    },
    {
      "id": "e336cf1f-29a0-4478-94b7-fe3c364fb952",
      "cell_type": "markdown",
      "source": "In this notebook, Data Science Tools and Ecosystem are summarized.",
      "metadata": {}
    },
    {
      "id": "4a67ce7a-b4cf-4163-af2e-f48d650f515b",
      "cell_type": "markdown",
      "source": "**Objectives:**\n\n- Popular languages that Data Scientists use\n- Commonly used libraries used by Data Scientists\n- Commonly Data Scientis Development IDE\n- Arithmetic expression using python\n- Arithmetic convertions using python",
      "metadata": {}
    },
    {
      "id": "f53158ff-185b-41c1-beb7-2cfaccf6c18c",
      "cell_type": "markdown",
      "source": "Some of the popular languages that Data Scientists use are:\n\n1. Python\n2. R\n3. SQL",
      "metadata": {}
    },
    {
      "id": "74822b11-4ba4-47d3-aeb1-5c5c34275844",
      "cell_type": "markdown",
      "source": "Some of the commonly used libraries used by Data Scientists include:\n\n1. Pandas\n2. NumPY\n3. Matplotlib\n4. Scikit-learn\n5. Tensorflow",
      "metadata": {}
    },
    {
      "id": "869c2e90-b238-4274-ad38-7a0610a91a7f",
      "cell_type": "markdown",
      "source": "| Data Science Tools |\n| --- |\n| Jupyter Notebook   | \n| Rstudio            | \n| Apache Zeppelin    |",
      "metadata": {}
    },
    {
      "id": "14108eba-05c7-4e90-9046-4d336cfa3f23",
      "cell_type": "markdown",
      "source": "Below are a few examples of evaluating arithmetic expressions in Python",
      "metadata": {}
    },
    {
      "id": "3c18df03-845c-4356-bb66-7bfb412d8176",
      "cell_type": "code",
      "source": "(3*4)+5\n# This a simple arithmetic expression to mutiply then add integers",
      "metadata": {
        "trusted": true
      },
      "outputs": [
        {
          "execution_count": 5,
          "output_type": "execute_result",
          "data": {
            "text/plain": "17"
          },
          "metadata": {}
        }
      ],
      "execution_count": 5
    },
    {
      "id": "eda8268e-5051-4db8-830a-aca5b0b26923",
      "cell_type": "code",
      "source": "200/60\n#This will convert 200 minutes to hours by diving by 60",
      "metadata": {
        "trusted": true
      },
      "outputs": [
        {
          "execution_count": 6,
          "output_type": "execute_result",
          "data": {
            "text/plain": "3.3333333333333335"
          },
          "metadata": {}
        }
      ],
      "execution_count": 6
    },
    {
      "id": "b7389740-7276-4423-b6ae-9b5176e3bf7d",
      "cell_type": "markdown",
      "source": "## Autor\nPatricio Alberto Álvarez Escobar",
      "metadata": {}
    },
    {
      "id": "4968c373-44a8-4fd1-9895-8f3ae52c9f88",
      "cell_type": "code",
      "source": "",
      "metadata": {
        "trusted": true
      },
      "outputs": [],
      "execution_count": null
    }
  ]
}